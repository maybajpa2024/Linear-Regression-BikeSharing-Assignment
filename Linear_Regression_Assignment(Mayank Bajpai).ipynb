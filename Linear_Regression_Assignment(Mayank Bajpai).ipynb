Step 1: Reading and Understanding the Data
